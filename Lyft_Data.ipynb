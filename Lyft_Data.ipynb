{
 "cells": [
  {
   "cell_type": "code",
   "execution_count": 6,
   "metadata": {},
   "outputs": [],
   "source": [
    "#import modules\n",
    "import pandas as pd\n",
    "import matplotlib.pyplot as plt\n",
    "import numpy as np\n",
    "\n",
    "#note:having problems with sklearn on the mobile app"
   ]
  },
  {
   "cell_type": "code",
   "execution_count": 7,
   "metadata": {},
   "outputs": [],
   "source": [
    "data = pd.read_csv(\"Lyft_Data_V1.csv\")"
   ]
  },
  {
   "cell_type": "code",
   "execution_count": 11,
   "metadata": {},
   "outputs": [
    {
     "data": {
      "text/html": [
       "<div>\n",
       "<style scoped>\n",
       "    .dataframe tbody tr th:only-of-type {\n",
       "        vertical-align: middle;\n",
       "    }\n",
       "\n",
       "    .dataframe tbody tr th {\n",
       "        vertical-align: top;\n",
       "    }\n",
       "\n",
       "    .dataframe thead th {\n",
       "        text-align: right;\n",
       "    }\n",
       "</style>\n",
       "<table border=\"1\" class=\"dataframe\">\n",
       "  <thead>\n",
       "    <tr style=\"text-align: right;\">\n",
       "      <th></th>\n",
       "      <th>Date</th>\n",
       "      <th>Day of Week</th>\n",
       "      <th>Ride ID Number</th>\n",
       "      <th>Total Pay</th>\n",
       "      <th>Tip</th>\n",
       "      <th>Bonus</th>\n",
       "      <th>Base Pay</th>\n",
       "      <th>Stop In Ride</th>\n",
       "      <th>Start Time</th>\n",
       "      <th>End Time</th>\n",
       "      <th>Estimated Booked Time</th>\n",
       "      <th>Actual Booked Time</th>\n",
       "      <th>Distance Estimated</th>\n",
       "      <th>Distance Actual</th>\n",
       "      <th>Passenger Payment</th>\n",
       "      <th>Unnamed: 15</th>\n",
       "    </tr>\n",
       "  </thead>\n",
       "  <tbody>\n",
       "    <tr>\n",
       "      <th>0</th>\n",
       "      <td>8/22/2025</td>\n",
       "      <td>Friday</td>\n",
       "      <td>1262</td>\n",
       "      <td>10.10</td>\n",
       "      <td>$2.00</td>\n",
       "      <td>$2.70</td>\n",
       "      <td>$5.40</td>\n",
       "      <td>No</td>\n",
       "      <td>4:54 PM</td>\n",
       "      <td>5:21 PM</td>\n",
       "      <td>17</td>\n",
       "      <td>19</td>\n",
       "      <td>5.63</td>\n",
       "      <td>6.00</td>\n",
       "      <td>$12.94</td>\n",
       "      <td>NaN</td>\n",
       "    </tr>\n",
       "    <tr>\n",
       "      <th>1</th>\n",
       "      <td>8/22/2025</td>\n",
       "      <td>Friday</td>\n",
       "      <td>1263</td>\n",
       "      <td>12.16</td>\n",
       "      <td>$0.00</td>\n",
       "      <td>$5.05</td>\n",
       "      <td>$7.11</td>\n",
       "      <td>No</td>\n",
       "      <td>4:37 PM</td>\n",
       "      <td>5:01 PM</td>\n",
       "      <td>23</td>\n",
       "      <td>24</td>\n",
       "      <td>7.12</td>\n",
       "      <td>7.19</td>\n",
       "      <td>$9.71</td>\n",
       "      <td>NaN</td>\n",
       "    </tr>\n",
       "    <tr>\n",
       "      <th>2</th>\n",
       "      <td>8/22/2025</td>\n",
       "      <td>Friday</td>\n",
       "      <td>1264</td>\n",
       "      <td>10.06</td>\n",
       "      <td>$0.00</td>\n",
       "      <td>$3.35</td>\n",
       "      <td>$6.71</td>\n",
       "      <td>No</td>\n",
       "      <td>4:19 PM</td>\n",
       "      <td>4:37 PM</td>\n",
       "      <td>19</td>\n",
       "      <td>18</td>\n",
       "      <td>5.21</td>\n",
       "      <td>5.12</td>\n",
       "      <td>$14.22</td>\n",
       "      <td>NaN</td>\n",
       "    </tr>\n",
       "    <tr>\n",
       "      <th>3</th>\n",
       "      <td>8/22/2025</td>\n",
       "      <td>Friday</td>\n",
       "      <td>1265</td>\n",
       "      <td>6.51</td>\n",
       "      <td>$1.50</td>\n",
       "      <td>$0.00</td>\n",
       "      <td>$5.01</td>\n",
       "      <td>No</td>\n",
       "      <td>4:01 PM</td>\n",
       "      <td>4:18 PM</td>\n",
       "      <td>12</td>\n",
       "      <td>14</td>\n",
       "      <td>2.16</td>\n",
       "      <td>2.67</td>\n",
       "      <td>$7.00</td>\n",
       "      <td>NaN</td>\n",
       "    </tr>\n",
       "    <tr>\n",
       "      <th>4</th>\n",
       "      <td>8/22/2025</td>\n",
       "      <td>Friday</td>\n",
       "      <td>1266</td>\n",
       "      <td>11.17</td>\n",
       "      <td>$0.00</td>\n",
       "      <td>$3.72</td>\n",
       "      <td>$7.45</td>\n",
       "      <td>No</td>\n",
       "      <td>3:45 PM</td>\n",
       "      <td>4:04 PM</td>\n",
       "      <td>17</td>\n",
       "      <td>19</td>\n",
       "      <td>8.60</td>\n",
       "      <td>8.63</td>\n",
       "      <td>$16.96</td>\n",
       "      <td>NaN</td>\n",
       "    </tr>\n",
       "  </tbody>\n",
       "</table>\n",
       "</div>"
      ],
      "text/plain": [
       "        Date Day of Week  Ride ID Number  Total Pay     Tip   Bonus Base Pay  \\\n",
       "0  8/22/2025      Friday            1262      10.10  $2.00   $2.70    $5.40    \n",
       "1  8/22/2025      Friday            1263      12.16  $0.00   $5.05    $7.11    \n",
       "2  8/22/2025      Friday            1264      10.06  $0.00   $3.35    $6.71    \n",
       "3  8/22/2025      Friday            1265       6.51  $1.50   $0.00    $5.01    \n",
       "4  8/22/2025      Friday            1266      11.17  $0.00   $3.72    $7.45    \n",
       "\n",
       "  Stop In Ride Start Time End Time  Estimated Booked Time  Actual Booked Time  \\\n",
       "0           No    4:54 PM  5:21 PM                     17                  19   \n",
       "1           No    4:37 PM  5:01 PM                     23                  24   \n",
       "2           No    4:19 PM  4:37 PM                     19                  18   \n",
       "3           No    4:01 PM  4:18 PM                     12                  14   \n",
       "4           No    3:45 PM  4:04 PM                     17                  19   \n",
       "\n",
       "   Distance Estimated  Distance Actual Passenger Payment  Unnamed: 15  \n",
       "0                5.63             6.00           $12.94           NaN  \n",
       "1                7.12             7.19            $9.71           NaN  \n",
       "2                5.21             5.12           $14.22           NaN  \n",
       "3                2.16             2.67            $7.00           NaN  \n",
       "4                8.60             8.63           $16.96           NaN  "
      ]
     },
     "execution_count": 11,
     "metadata": {},
     "output_type": "execute_result"
    }
   ],
   "source": [
    "#Create a df of my information\n",
    "rides = pd.DataFrame(data)\n",
    "\n",
    "#remove special characters from column of interest\n",
    "rides[\"Total Pay\"] = rides[\"Total Pay\"].replace('[\\$,]', '', regex=True).astype(float)\n",
    "\n",
    "#display head for verification\n",
    "rides.head()"
   ]
  },
  {
   "cell_type": "code",
   "execution_count": 9,
   "metadata": {},
   "outputs": [
    {
     "data": {
      "image/png": "[encoded data removed]",
      "text/plain": [
       "<Figure size 640x480 with 1 Axes>"
      ]
     },
     "metadata": {},
     "output_type": "display_data"
    }
   ],
   "source": [
    "#create a scatter plot\n",
    "plt.scatter(rides[\"Total Pay\"], rides[\"Distance Actual\"], color=\"blue\")\n",
    "\n",
    "#Add Labels and Title\n",
    "plt.title(\"Ride Distance Vs. Price\")\n",
    "plt.xlabel(\"USD Earned\")\n",
    "plt.ylabel(\"Distance of Ride (Miles)\")\n",
    "\n",
    "#set x ticks to a range of 1-24 counting by 2\n",
    "plt.xticks(np.arange(1,25,2))\n",
    "plt.show()"
   ]
  },
  {
   "cell_type": "code",
   "execution_count": 16,
   "metadata": {},
   "outputs": [],
   "source": [
    "avg_price = rides[\"Total Pay\"].mean()\n",
    "avg_price = avg_price.round()"
   ]
  },
  {
   "cell_type": "code",
   "execution_count": 17,
   "metadata": {},
   "outputs": [
    {
     "name": "stdout",
     "output_type": "stream",
     "text": [
      "This week I averaged $ 9.0 per ride!\n"
     ]
    }
   ],
   "source": [
    "print(\"This week I averaged $\",avg_price,\"per ride!\")"
   ]
  },
  {
   "cell_type": "code",
   "execution_count": null,
   "metadata": {},
   "outputs": [],
   "source": [
    "#next fit a linear regression model! "
   ]
  }
 ],
 "metadata": {
  "kernelspec": {
   "display_name": "Python 3 (ipykernel)",
   "language": "python",
   "name": "python3"
  },
  "language_info": {
   "codemirror_mode": {
    "name": "ipython",
    "version": 3
   },
   "file_extension": ".py",
   "mimetype": "text/x-python",
   "name": "python",
   "nbconvert_exporter": "python",
   "pygments_lexer": "ipython3",
   "version": "3.11.0"
  }
 },
 "nbformat": 4,
 "nbformat_minor": 4
}
