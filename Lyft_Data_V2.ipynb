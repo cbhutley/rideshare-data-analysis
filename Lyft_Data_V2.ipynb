{
 "cells": [
  {
   "cell_type": "code",
   "execution_count": 1,
   "metadata": {},
   "outputs": [
    {
     "name": "stdout",
     "output_type": "stream",
     "text": [
      "Requirement already satisfied: scikit-learn in c:\\users\\cbhut\\appdata\\local\\programs\\python\\python313\\lib\\site-packages (1.7.1)\n",
      "Requirement already satisfied: pandas in c:\\users\\cbhut\\appdata\\local\\programs\\python\\python313\\lib\\site-packages (2.3.2)\n",
      "Requirement already satisfied: numpy in c:\\users\\cbhut\\appdata\\local\\programs\\python\\python313\\lib\\site-packages (2.3.1)\n",
      "Requirement already satisfied: matplotlib in c:\\users\\cbhut\\appdata\\local\\programs\\python\\python313\\lib\\site-packages (3.10.5)\n",
      "Requirement already satisfied: scipy>=1.8.0 in c:\\users\\cbhut\\appdata\\local\\programs\\python\\python313\\lib\\site-packages (from scikit-learn) (1.16.1)\n",
      "Requirement already satisfied: joblib>=1.2.0 in c:\\users\\cbhut\\appdata\\local\\programs\\python\\python313\\lib\\site-packages (from scikit-learn) (1.5.1)\n",
      "Requirement already satisfied: threadpoolctl>=3.1.0 in c:\\users\\cbhut\\appdata\\local\\programs\\python\\python313\\lib\\site-packages (from scikit-learn) (3.6.0)\n",
      "Requirement already satisfied: python-dateutil>=2.8.2 in c:\\users\\cbhut\\appdata\\local\\programs\\python\\python313\\lib\\site-packages (from pandas) (2.9.0.post0)\n",
      "Requirement already satisfied: pytz>=2020.1 in c:\\users\\cbhut\\appdata\\local\\programs\\python\\python313\\lib\\site-packages (from pandas) (2025.2)\n",
      "Requirement already satisfied: tzdata>=2022.7 in c:\\users\\cbhut\\appdata\\local\\programs\\python\\python313\\lib\\site-packages (from pandas) (2025.2)\n",
      "Requirement already satisfied: contourpy>=1.0.1 in c:\\users\\cbhut\\appdata\\local\\programs\\python\\python313\\lib\\site-packages (from matplotlib) (1.3.3)\n",
      "Requirement already satisfied: cycler>=0.10 in c:\\users\\cbhut\\appdata\\local\\programs\\python\\python313\\lib\\site-packages (from matplotlib) (0.12.1)\n",
      "Requirement already satisfied: fonttools>=4.22.0 in c:\\users\\cbhut\\appdata\\local\\programs\\python\\python313\\lib\\site-packages (from matplotlib) (4.59.1)\n",
      "Requirement already satisfied: kiwisolver>=1.3.1 in c:\\users\\cbhut\\appdata\\local\\programs\\python\\python313\\lib\\site-packages (from matplotlib) (1.4.9)\n",
      "Requirement already satisfied: packaging>=20.0 in c:\\users\\cbhut\\appdata\\local\\programs\\python\\python313\\lib\\site-packages (from matplotlib) (25.0)\n",
      "Requirement already satisfied: pillow>=8 in c:\\users\\cbhut\\appdata\\local\\programs\\python\\python313\\lib\\site-packages (from matplotlib) (11.3.0)\n",
      "Requirement already satisfied: pyparsing>=2.3.1 in c:\\users\\cbhut\\appdata\\local\\programs\\python\\python313\\lib\\site-packages (from matplotlib) (3.2.3)\n",
      "Requirement already satisfied: six>=1.5 in c:\\users\\cbhut\\appdata\\local\\programs\\python\\python313\\lib\\site-packages (from python-dateutil>=2.8.2->pandas) (1.17.0)\n",
      "Note: you may need to restart the kernel to use updated packages.\n"
     ]
    }
   ],
   "source": [
    "pip install scikit-learn pandas numpy matplotlib"
   ]
  },
  {
   "cell_type": "code",
   "execution_count": 2,
   "metadata": {},
   "outputs": [
    {
     "name": "stdout",
     "output_type": "stream",
     "text": [
      "modules imported\n"
     ]
    }
   ],
   "source": [
    "#import modules\n",
    "import pandas as pd\n",
    "import matplotlib.pyplot as plt\n",
    "import numpy as np\n",
    "from sklearn.linear_model import LinearRegression\n",
    "print('modules imported')"
   ]
  },
  {
   "cell_type": "code",
   "execution_count": 3,
   "metadata": {},
   "outputs": [
    {
     "name": "stdout",
     "output_type": "stream",
     "text": [
      "CSV file loaded as 'data'\n"
     ]
    }
   ],
   "source": [
    "#Load CSV data\n",
    "data = pd.read_csv(\"Lyft_Data_V1.csv\")\n",
    "\n",
    "print(\"CSV file loaded as 'data'\")\n"
   ]
  },
  {
   "cell_type": "code",
   "execution_count": 5,
   "metadata": {},
   "outputs": [
    {
     "data": {
      "text/html": [
       "<div>\n",
       "<style scoped>\n",
       "    .dataframe tbody tr th:only-of-type {\n",
       "        vertical-align: middle;\n",
       "    }\n",
       "\n",
       "    .dataframe tbody tr th {\n",
       "        vertical-align: top;\n",
       "    }\n",
       "\n",
       "    .dataframe thead th {\n",
       "        text-align: right;\n",
       "    }\n",
       "</style>\n",
       "<table border=\"1\" class=\"dataframe\">\n",
       "  <thead>\n",
       "    <tr style=\"text-align: right;\">\n",
       "      <th></th>\n",
       "      <th>Date</th>\n",
       "      <th>Day of Week</th>\n",
       "      <th>Ride ID Number</th>\n",
       "      <th>Total Pay</th>\n",
       "      <th>Tip</th>\n",
       "      <th>Bonus</th>\n",
       "      <th>Base Pay</th>\n",
       "      <th>Stop In Ride</th>\n",
       "      <th>Start Time</th>\n",
       "      <th>End Time</th>\n",
       "      <th>Estimated Booked Time</th>\n",
       "      <th>Actual Booked Time</th>\n",
       "      <th>Distance Estimated</th>\n",
       "      <th>Distance Actual</th>\n",
       "      <th>Passenger Payment</th>\n",
       "    </tr>\n",
       "  </thead>\n",
       "  <tbody>\n",
       "    <tr>\n",
       "      <th>27</th>\n",
       "      <td>8/25/2025</td>\n",
       "      <td>Sunday</td>\n",
       "      <td>1276</td>\n",
       "      <td>$12.15</td>\n",
       "      <td>$0.00</td>\n",
       "      <td>$0.00</td>\n",
       "      <td>$12.15</td>\n",
       "      <td>No</td>\n",
       "      <td>5:05 PM</td>\n",
       "      <td>5:33 PM</td>\n",
       "      <td>27</td>\n",
       "      <td>27</td>\n",
       "      <td>13.96</td>\n",
       "      <td>13.75</td>\n",
       "      <td>$15.29</td>\n",
       "    </tr>\n",
       "    <tr>\n",
       "      <th>28</th>\n",
       "      <td>8/25/2025</td>\n",
       "      <td>Sunday</td>\n",
       "      <td>1277</td>\n",
       "      <td>$12.85</td>\n",
       "      <td>$3.80</td>\n",
       "      <td>$0.00</td>\n",
       "      <td>$9.05</td>\n",
       "      <td>No</td>\n",
       "      <td>6:09 PM</td>\n",
       "      <td>6:35 PM</td>\n",
       "      <td>24</td>\n",
       "      <td>26</td>\n",
       "      <td>12.15</td>\n",
       "      <td>12.23</td>\n",
       "      <td>$18.99</td>\n",
       "    </tr>\n",
       "    <tr>\n",
       "      <th>29</th>\n",
       "      <td>8/25/2025</td>\n",
       "      <td>Sunday</td>\n",
       "      <td>1278</td>\n",
       "      <td>$4.11</td>\n",
       "      <td>$0.00</td>\n",
       "      <td>$0.00</td>\n",
       "      <td>$4.11</td>\n",
       "      <td>No</td>\n",
       "      <td>6:35 PM</td>\n",
       "      <td>6:49 PM</td>\n",
       "      <td>13</td>\n",
       "      <td>14</td>\n",
       "      <td>3.88</td>\n",
       "      <td>3.86</td>\n",
       "      <td>$8.66</td>\n",
       "    </tr>\n",
       "    <tr>\n",
       "      <th>30</th>\n",
       "      <td>8/25/2025</td>\n",
       "      <td>Sunday</td>\n",
       "      <td>1279</td>\n",
       "      <td>$8.01</td>\n",
       "      <td>$0.00</td>\n",
       "      <td>$1.25</td>\n",
       "      <td>$6.76</td>\n",
       "      <td>No</td>\n",
       "      <td>6:49 PM</td>\n",
       "      <td>7:12 PM</td>\n",
       "      <td>21</td>\n",
       "      <td>23</td>\n",
       "      <td>7.85</td>\n",
       "      <td>7.73</td>\n",
       "      <td>$11.68</td>\n",
       "    </tr>\n",
       "    <tr>\n",
       "      <th>31</th>\n",
       "      <td>8/25/2025</td>\n",
       "      <td>Sunday</td>\n",
       "      <td>1280</td>\n",
       "      <td>$9.07</td>\n",
       "      <td>$0.00</td>\n",
       "      <td>$1.50</td>\n",
       "      <td>$7.57</td>\n",
       "      <td>No</td>\n",
       "      <td>7:12 PM</td>\n",
       "      <td>7:33 PM</td>\n",
       "      <td>21</td>\n",
       "      <td>21</td>\n",
       "      <td>11.03</td>\n",
       "      <td>11.14</td>\n",
       "      <td>$19.67</td>\n",
       "    </tr>\n",
       "  </tbody>\n",
       "</table>\n",
       "</div>"
      ],
      "text/plain": [
       "         Date Day of Week  Ride ID Number Total Pay     Tip   Bonus Base Pay  \\\n",
       "27  8/25/2025      Sunday            1276   $12.15   $0.00   $0.00   $12.15    \n",
       "28  8/25/2025      Sunday            1277   $12.85   $3.80   $0.00    $9.05    \n",
       "29  8/25/2025      Sunday            1278    $4.11   $0.00   $0.00    $4.11    \n",
       "30  8/25/2025      Sunday            1279    $8.01   $0.00   $1.25    $6.76    \n",
       "31  8/25/2025      Sunday            1280    $9.07   $0.00   $1.50    $7.57    \n",
       "\n",
       "   Stop In Ride Start Time End Time  Estimated Booked Time  \\\n",
       "27           No    5:05 PM  5:33 PM                     27   \n",
       "28           No    6:09 PM  6:35 PM                     24   \n",
       "29           No    6:35 PM  6:49 PM                     13   \n",
       "30           No    6:49 PM  7:12 PM                     21   \n",
       "31           No    7:12 PM  7:33 PM                     21   \n",
       "\n",
       "    Actual Booked Time  Distance Estimated  Distance Actual Passenger Payment  \n",
       "27                  27               13.96            13.75           $15.29   \n",
       "28                  26               12.15            12.23           $18.99   \n",
       "29                  14                3.88             3.86            $8.66   \n",
       "30                  23                7.85             7.73           $11.68   \n",
       "31                  21               11.03            11.14           $19.67   "
      ]
     },
     "execution_count": 5,
     "metadata": {},
     "output_type": "execute_result"
    }
   ],
   "source": [
    "#Create a dataframe of my ride information\n",
    "rides = pd.DataFrame(data)\n",
    "rides.tail()"
   ]
  },
  {
   "cell_type": "code",
   "execution_count": 6,
   "metadata": {},
   "outputs": [
    {
     "name": "stderr",
     "output_type": "stream",
     "text": [
      "<>:3: SyntaxWarning: invalid escape sequence '\\$'\n",
      "<>:4: SyntaxWarning: invalid escape sequence '\\$'\n",
      "<>:5: SyntaxWarning: invalid escape sequence '\\$'\n",
      "<>:6: SyntaxWarning: invalid escape sequence '\\$'\n",
      "<>:7: SyntaxWarning: invalid escape sequence '\\$'\n",
      "<>:3: SyntaxWarning: invalid escape sequence '\\$'\n",
      "<>:4: SyntaxWarning: invalid escape sequence '\\$'\n",
      "<>:5: SyntaxWarning: invalid escape sequence '\\$'\n",
      "<>:6: SyntaxWarning: invalid escape sequence '\\$'\n",
      "<>:7: SyntaxWarning: invalid escape sequence '\\$'\n",
      "C:\\Users\\cbhut\\AppData\\Local\\Temp\\ipykernel_18860\\1778869599.py:3: SyntaxWarning: invalid escape sequence '\\$'\n",
      "  rides[[\"Total Pay\"]] = rides[[\"Total Pay\"]].replace('[\\$,]', '', regex=True).astype(float)\n",
      "C:\\Users\\cbhut\\AppData\\Local\\Temp\\ipykernel_18860\\1778869599.py:4: SyntaxWarning: invalid escape sequence '\\$'\n",
      "  rides[[\"Base Pay\"]] = rides[[\"Base Pay\"]].replace('[\\$,]', '', regex=True).astype(float)\n",
      "C:\\Users\\cbhut\\AppData\\Local\\Temp\\ipykernel_18860\\1778869599.py:5: SyntaxWarning: invalid escape sequence '\\$'\n",
      "  rides[[\"Tip\"]] = rides[[\"Tip\"]].replace('[\\$,]', '', regex=True).astype(float)\n",
      "C:\\Users\\cbhut\\AppData\\Local\\Temp\\ipykernel_18860\\1778869599.py:6: SyntaxWarning: invalid escape sequence '\\$'\n",
      "  rides[[\"Bonus\"]] = rides[[\"Bonus\"]].replace('[\\$,]', '', regex=True).astype(float)\n",
      "C:\\Users\\cbhut\\AppData\\Local\\Temp\\ipykernel_18860\\1778869599.py:7: SyntaxWarning: invalid escape sequence '\\$'\n",
      "  rides[[\"Passenger Payment\"]] = rides[[\"Passenger Payment\"]].replace('[\\$,]', '', regex=True).astype(float)\n"
     ]
    },
    {
     "data": {
      "text/html": [
       "<div>\n",
       "<style scoped>\n",
       "    .dataframe tbody tr th:only-of-type {\n",
       "        vertical-align: middle;\n",
       "    }\n",
       "\n",
       "    .dataframe tbody tr th {\n",
       "        vertical-align: top;\n",
       "    }\n",
       "\n",
       "    .dataframe thead th {\n",
       "        text-align: right;\n",
       "    }\n",
       "</style>\n",
       "<table border=\"1\" class=\"dataframe\">\n",
       "  <thead>\n",
       "    <tr style=\"text-align: right;\">\n",
       "      <th></th>\n",
       "      <th>Date</th>\n",
       "      <th>Day of Week</th>\n",
       "      <th>Ride ID Number</th>\n",
       "      <th>Total Pay</th>\n",
       "      <th>Tip</th>\n",
       "      <th>Bonus</th>\n",
       "      <th>Base Pay</th>\n",
       "      <th>Stop In Ride</th>\n",
       "      <th>Start Time</th>\n",
       "      <th>End Time</th>\n",
       "      <th>Estimated Booked Time</th>\n",
       "      <th>Actual Booked Time</th>\n",
       "      <th>Distance Estimated</th>\n",
       "      <th>Distance Actual</th>\n",
       "      <th>Passenger Payment</th>\n",
       "    </tr>\n",
       "  </thead>\n",
       "  <tbody>\n",
       "    <tr>\n",
       "      <th>27</th>\n",
       "      <td>8/25/2025</td>\n",
       "      <td>Sunday</td>\n",
       "      <td>1276</td>\n",
       "      <td>12.15</td>\n",
       "      <td>0.0</td>\n",
       "      <td>0.00</td>\n",
       "      <td>12.15</td>\n",
       "      <td>No</td>\n",
       "      <td>5:05 PM</td>\n",
       "      <td>5:33 PM</td>\n",
       "      <td>27</td>\n",
       "      <td>27</td>\n",
       "      <td>13.96</td>\n",
       "      <td>13.75</td>\n",
       "      <td>15.29</td>\n",
       "    </tr>\n",
       "    <tr>\n",
       "      <th>28</th>\n",
       "      <td>8/25/2025</td>\n",
       "      <td>Sunday</td>\n",
       "      <td>1277</td>\n",
       "      <td>12.85</td>\n",
       "      <td>3.8</td>\n",
       "      <td>0.00</td>\n",
       "      <td>9.05</td>\n",
       "      <td>No</td>\n",
       "      <td>6:09 PM</td>\n",
       "      <td>6:35 PM</td>\n",
       "      <td>24</td>\n",
       "      <td>26</td>\n",
       "      <td>12.15</td>\n",
       "      <td>12.23</td>\n",
       "      <td>18.99</td>\n",
       "    </tr>\n",
       "    <tr>\n",
       "      <th>29</th>\n",
       "      <td>8/25/2025</td>\n",
       "      <td>Sunday</td>\n",
       "      <td>1278</td>\n",
       "      <td>4.11</td>\n",
       "      <td>0.0</td>\n",
       "      <td>0.00</td>\n",
       "      <td>4.11</td>\n",
       "      <td>No</td>\n",
       "      <td>6:35 PM</td>\n",
       "      <td>6:49 PM</td>\n",
       "      <td>13</td>\n",
       "      <td>14</td>\n",
       "      <td>3.88</td>\n",
       "      <td>3.86</td>\n",
       "      <td>8.66</td>\n",
       "    </tr>\n",
       "    <tr>\n",
       "      <th>30</th>\n",
       "      <td>8/25/2025</td>\n",
       "      <td>Sunday</td>\n",
       "      <td>1279</td>\n",
       "      <td>8.01</td>\n",
       "      <td>0.0</td>\n",
       "      <td>1.25</td>\n",
       "      <td>6.76</td>\n",
       "      <td>No</td>\n",
       "      <td>6:49 PM</td>\n",
       "      <td>7:12 PM</td>\n",
       "      <td>21</td>\n",
       "      <td>23</td>\n",
       "      <td>7.85</td>\n",
       "      <td>7.73</td>\n",
       "      <td>11.68</td>\n",
       "    </tr>\n",
       "    <tr>\n",
       "      <th>31</th>\n",
       "      <td>8/25/2025</td>\n",
       "      <td>Sunday</td>\n",
       "      <td>1280</td>\n",
       "      <td>9.07</td>\n",
       "      <td>0.0</td>\n",
       "      <td>1.50</td>\n",
       "      <td>7.57</td>\n",
       "      <td>No</td>\n",
       "      <td>7:12 PM</td>\n",
       "      <td>7:33 PM</td>\n",
       "      <td>21</td>\n",
       "      <td>21</td>\n",
       "      <td>11.03</td>\n",
       "      <td>11.14</td>\n",
       "      <td>19.67</td>\n",
       "    </tr>\n",
       "  </tbody>\n",
       "</table>\n",
       "</div>"
      ],
      "text/plain": [
       "         Date Day of Week  Ride ID Number  Total Pay  Tip  Bonus  Base Pay  \\\n",
       "27  8/25/2025      Sunday            1276      12.15  0.0   0.00     12.15   \n",
       "28  8/25/2025      Sunday            1277      12.85  3.8   0.00      9.05   \n",
       "29  8/25/2025      Sunday            1278       4.11  0.0   0.00      4.11   \n",
       "30  8/25/2025      Sunday            1279       8.01  0.0   1.25      6.76   \n",
       "31  8/25/2025      Sunday            1280       9.07  0.0   1.50      7.57   \n",
       "\n",
       "   Stop In Ride Start Time End Time  Estimated Booked Time  \\\n",
       "27           No    5:05 PM  5:33 PM                     27   \n",
       "28           No    6:09 PM  6:35 PM                     24   \n",
       "29           No    6:35 PM  6:49 PM                     13   \n",
       "30           No    6:49 PM  7:12 PM                     21   \n",
       "31           No    7:12 PM  7:33 PM                     21   \n",
       "\n",
       "    Actual Booked Time  Distance Estimated  Distance Actual  Passenger Payment  \n",
       "27                  27               13.96            13.75              15.29  \n",
       "28                  26               12.15            12.23              18.99  \n",
       "29                  14                3.88             3.86               8.66  \n",
       "30                  23                7.85             7.73              11.68  \n",
       "31                  21               11.03            11.14              19.67  "
      ]
     },
     "execution_count": 6,
     "metadata": {},
     "output_type": "execute_result"
    }
   ],
   "source": [
    "#remove special characters from columns including dollar signs\n",
    "\n",
    "rides[[\"Total Pay\"]] = rides[[\"Total Pay\"]].replace('[\\$,]', '', regex=True).astype(float)\n",
    "rides[[\"Base Pay\"]] = rides[[\"Base Pay\"]].replace('[\\$,]', '', regex=True).astype(float)\n",
    "rides[[\"Tip\"]] = rides[[\"Tip\"]].replace('[\\$,]', '', regex=True).astype(float)\n",
    "rides[[\"Bonus\"]] = rides[[\"Bonus\"]].replace('[\\$,]', '', regex=True).astype(float)\n",
    "rides[[\"Passenger Payment\"]] = rides[[\"Passenger Payment\"]].replace('[\\$,]', '', regex=True).astype(float)\n",
    "\n",
    "#display head for verification\n",
    "rides.tail()"
   ]
  },
  {
   "cell_type": "code",
   "execution_count": 7,
   "metadata": {},
   "outputs": [
    {
     "data": {
      "image/png": "[encoded data removed]",
      "text/plain": [
       "<Figure size 640x480 with 1 Axes>"
      ]
     },
     "metadata": {},
     "output_type": "display_data"
    }
   ],
   "source": [
    "#create a scatter plot\n",
    "plt.scatter(rides[\"Total Pay\"], rides[\"Distance Actual\"], color=\"blue\")\n",
    "\n",
    "#Add Labels and Title\n",
    "plt.title(\"Ride Distance Vs. Price\")\n",
    "plt.xlabel(\"USD Earned\")\n",
    "plt.ylabel(\"Distance of Ride (Miles)\")\n",
    "\n",
    "#set x ticks to a range of 1-24 counting by 2\n",
    "plt.xticks(np.arange(1,25,2))\n",
    "plt.show()"
   ]
  },
  {
   "cell_type": "code",
   "execution_count": 8,
   "metadata": {},
   "outputs": [],
   "source": [
    "avg_price = rides[\"Total Pay\"].mean()\n",
    "avg_price = avg_price.round()"
   ]
  },
  {
   "cell_type": "code",
   "execution_count": 9,
   "metadata": {},
   "outputs": [
    {
     "name": "stdout",
     "output_type": "stream",
     "text": [
      "This week I averaged $ 9.0 per ride!\n"
     ]
    }
   ],
   "source": [
    "print(\"This week I averaged $\",avg_price,\"per ride!\")"
   ]
  },
  {
   "cell_type": "code",
   "execution_count": 10,
   "metadata": {},
   "outputs": [
    {
     "name": "stdout",
     "output_type": "stream",
     "text": [
      "Slope (Coef): [[0.70986446]]\n",
      "Intercept: [0.97917804]\n"
     ]
    }
   ],
   "source": [
    "#next fit a linear regression model! \n",
    "x = rides[[\"Total Pay\"]] \n",
    "y = rides[[\"Distance Actual\"]]\n",
    "\n",
    "model = LinearRegression()\n",
    "model.fit(x, y)\n",
    "\n",
    "print(\"Slope (Coef):\", model.coef_)\n",
    "print(\"Intercept:\", model.intercept_)"
   ]
  },
  {
   "cell_type": "code",
   "execution_count": 11,
   "metadata": {},
   "outputs": [],
   "source": [
    "y_pred = model.predict(x)"
   ]
  },
  {
   "cell_type": "code",
   "execution_count": 12,
   "metadata": {},
   "outputs": [
    {
     "data": {
      "image/png": "[encoded data removed]",
      "text/plain": [
       "<Figure size 640x480 with 1 Axes>"
      ]
     },
     "metadata": {},
     "output_type": "display_data"
    }
   ],
   "source": [
    "#recreate a scatter plot\n",
    "plt.scatter(rides[\"Total Pay\"], rides[\"Distance Actual\"], color=\"blue\")\n",
    "plt.plot(x,y_pred, color=\"lightblue\")\n",
    "\n",
    "#Add Labels and Title\n",
    "plt.title(\"Ride Distance Vs. Price\")\n",
    "plt.xlabel(\"USD Earned\")\n",
    "plt.ylabel(\"Distance of Ride (Miles)\")\n",
    "\n",
    "#set x ticks to a range of 1-24 counting by 2\n",
    "plt.xticks(np.arange(1,25,2))\n",
    "plt.show()"
   ]
  },
  {
   "cell_type": "code",
   "execution_count": 19,
   "metadata": {},
   "outputs": [
    {
     "data": {
      "text/html": [
       "<div>\n",
       "<style scoped>\n",
       "    .dataframe tbody tr th:only-of-type {\n",
       "        vertical-align: middle;\n",
       "    }\n",
       "\n",
       "    .dataframe tbody tr th {\n",
       "        vertical-align: top;\n",
       "    }\n",
       "\n",
       "    .dataframe thead th {\n",
       "        text-align: right;\n",
       "    }\n",
       "</style>\n",
       "<table border=\"1\" class=\"dataframe\">\n",
       "  <thead>\n",
       "    <tr style=\"text-align: right;\">\n",
       "      <th></th>\n",
       "      <th>Date</th>\n",
       "      <th>Day of Week</th>\n",
       "      <th>Ride ID Number</th>\n",
       "      <th>Total Pay</th>\n",
       "      <th>Tip</th>\n",
       "      <th>Bonus</th>\n",
       "      <th>Base Pay</th>\n",
       "      <th>Stop In Ride</th>\n",
       "      <th>Start Time</th>\n",
       "      <th>End Time</th>\n",
       "      <th>Estimated Booked Time</th>\n",
       "      <th>Actual Booked Time</th>\n",
       "      <th>Distance Estimated</th>\n",
       "      <th>Distance Actual</th>\n",
       "      <th>Passenger Payment</th>\n",
       "    </tr>\n",
       "  </thead>\n",
       "  <tbody>\n",
       "    <tr>\n",
       "      <th>27</th>\n",
       "      <td>8/25/2025</td>\n",
       "      <td>Sunday</td>\n",
       "      <td>1276</td>\n",
       "      <td>12.15</td>\n",
       "      <td>0.0</td>\n",
       "      <td>0.00</td>\n",
       "      <td>12.15</td>\n",
       "      <td>No</td>\n",
       "      <td>5:05 PM</td>\n",
       "      <td>5:33 PM</td>\n",
       "      <td>27</td>\n",
       "      <td>27</td>\n",
       "      <td>13.96</td>\n",
       "      <td>13.75</td>\n",
       "      <td>15.29</td>\n",
       "    </tr>\n",
       "    <tr>\n",
       "      <th>28</th>\n",
       "      <td>8/25/2025</td>\n",
       "      <td>Sunday</td>\n",
       "      <td>1277</td>\n",
       "      <td>12.85</td>\n",
       "      <td>3.8</td>\n",
       "      <td>0.00</td>\n",
       "      <td>9.05</td>\n",
       "      <td>No</td>\n",
       "      <td>6:09 PM</td>\n",
       "      <td>6:35 PM</td>\n",
       "      <td>24</td>\n",
       "      <td>26</td>\n",
       "      <td>12.15</td>\n",
       "      <td>12.23</td>\n",
       "      <td>18.99</td>\n",
       "    </tr>\n",
       "    <tr>\n",
       "      <th>29</th>\n",
       "      <td>8/25/2025</td>\n",
       "      <td>Sunday</td>\n",
       "      <td>1278</td>\n",
       "      <td>4.11</td>\n",
       "      <td>0.0</td>\n",
       "      <td>0.00</td>\n",
       "      <td>4.11</td>\n",
       "      <td>No</td>\n",
       "      <td>6:35 PM</td>\n",
       "      <td>6:49 PM</td>\n",
       "      <td>13</td>\n",
       "      <td>14</td>\n",
       "      <td>3.88</td>\n",
       "      <td>3.86</td>\n",
       "      <td>8.66</td>\n",
       "    </tr>\n",
       "    <tr>\n",
       "      <th>30</th>\n",
       "      <td>8/25/2025</td>\n",
       "      <td>Sunday</td>\n",
       "      <td>1279</td>\n",
       "      <td>8.01</td>\n",
       "      <td>0.0</td>\n",
       "      <td>1.25</td>\n",
       "      <td>6.76</td>\n",
       "      <td>No</td>\n",
       "      <td>6:49 PM</td>\n",
       "      <td>7:12 PM</td>\n",
       "      <td>21</td>\n",
       "      <td>23</td>\n",
       "      <td>7.85</td>\n",
       "      <td>7.73</td>\n",
       "      <td>11.68</td>\n",
       "    </tr>\n",
       "    <tr>\n",
       "      <th>31</th>\n",
       "      <td>8/25/2025</td>\n",
       "      <td>Sunday</td>\n",
       "      <td>1280</td>\n",
       "      <td>9.07</td>\n",
       "      <td>0.0</td>\n",
       "      <td>1.50</td>\n",
       "      <td>7.57</td>\n",
       "      <td>No</td>\n",
       "      <td>7:12 PM</td>\n",
       "      <td>7:33 PM</td>\n",
       "      <td>21</td>\n",
       "      <td>21</td>\n",
       "      <td>11.03</td>\n",
       "      <td>11.14</td>\n",
       "      <td>19.67</td>\n",
       "    </tr>\n",
       "  </tbody>\n",
       "</table>\n",
       "</div>"
      ],
      "text/plain": [
       "         Date Day of Week  Ride ID Number  Total Pay  Tip  Bonus  Base Pay  \\\n",
       "27  8/25/2025      Sunday            1276      12.15  0.0   0.00     12.15   \n",
       "28  8/25/2025      Sunday            1277      12.85  3.8   0.00      9.05   \n",
       "29  8/25/2025      Sunday            1278       4.11  0.0   0.00      4.11   \n",
       "30  8/25/2025      Sunday            1279       8.01  0.0   1.25      6.76   \n",
       "31  8/25/2025      Sunday            1280       9.07  0.0   1.50      7.57   \n",
       "\n",
       "   Stop In Ride Start Time End Time  Estimated Booked Time  \\\n",
       "27           No    5:05 PM  5:33 PM                     27   \n",
       "28           No    6:09 PM  6:35 PM                     24   \n",
       "29           No    6:35 PM  6:49 PM                     13   \n",
       "30           No    6:49 PM  7:12 PM                     21   \n",
       "31           No    7:12 PM  7:33 PM                     21   \n",
       "\n",
       "    Actual Booked Time  Distance Estimated  Distance Actual  Passenger Payment  \n",
       "27                  27               13.96            13.75              15.29  \n",
       "28                  26               12.15            12.23              18.99  \n",
       "29                  14                3.88             3.86               8.66  \n",
       "30                  23                7.85             7.73              11.68  \n",
       "31                  21               11.03            11.14              19.67  "
      ]
     },
     "execution_count": 19,
     "metadata": {},
     "output_type": "execute_result"
    }
   ],
   "source": [
    "rides.tail()"
   ]
  },
  {
   "cell_type": "code",
   "execution_count": 17,
   "metadata": {},
   "outputs": [
    {
     "name": "stdout",
     "output_type": "stream",
     "text": [
      "Total customer pay was Passenger Payment    431.67\n",
      "dtype: float64\n",
      "My total pay was Total Pay    285.5\n",
      "dtype: float64\n",
      "Total base pay was Base Pay    197.12\n",
      "dtype: float64\n",
      "My total tips counts was Tip    27.16\n",
      "dtype: float64\n",
      "Total of bonuses was Bonus    61.62\n",
      "dtype: float64\n"
     ]
    }
   ],
   "source": [
    "passpay = rides[[\"Passenger Payment\"]]\n",
    "mypay = rides[[\"Total Pay\"]]\n",
    "mytips = rides[[\"Tip\"]]\n",
    "basepay = rides[[\"Base Pay\"]]\n",
    "bonuses = rides[[\"Bonus\"]]\n",
    "\n",
    "print('Total customer pay was', passpay.sum())\n",
    "print('My total pay was', mypay.sum())\n",
    "print('Total base pay was', basepay.sum())\n",
    "print('My total tips counts was', mytips.sum())\n",
    "print(\"Total of bonuses was\", bonuses.sum())"
   ]
  },
  {
   "cell_type": "code",
   "execution_count": 24,
   "metadata": {},
   "outputs": [
    {
     "name": "stdout",
     "output_type": "stream",
     "text": [
      "I made 258.74 before tips\n",
      "I earned 59.939305487988506 % of customer payments before my priority mode adjustment\n"
     ]
    }
   ],
   "source": [
    "TotalCustomerPay = 431.67\n",
    "MyTotalEarnings = 285.5\n",
    "Tips = 27.16\n",
    "Earnings = 197.12 + 61.62\n",
    "\n",
    "percent_earnings = (Earnings * 100) / TotalCustomerPay\n",
    "\n",
    "print(\"I made\", Earnings, \"before tips\")\n",
    "print(\"I earned\", percent_earnings, \"% of customer payments before my priority mode adjustment\")"
   ]
  },
  {
   "cell_type": "code",
   "execution_count": 25,
   "metadata": {},
   "outputs": [
    {
     "name": "stdout",
     "output_type": "stream",
     "text": [
      "I made a total of $ 19.979999999999997 in priority mode adjustments\n"
     ]
    }
   ],
   "source": [
    "#These were the 3 Priority mode adjustments I was given in this period of time\n",
    "adjustments = 0.34 + 15.54 + 4.10\n",
    "print(\"I made a total of $\", adjustments, \"in priority mode adjustments\")"
   ]
  },
  {
   "cell_type": "code",
   "execution_count": 27,
   "metadata": {},
   "outputs": [
    {
     "data": {
      "text/plain": [
       "278.72"
      ]
     },
     "execution_count": 27,
     "metadata": {},
     "output_type": "execute_result"
    }
   ],
   "source": [
    "Earnings + adjustments"
   ]
  },
  {
   "cell_type": "code",
   "execution_count": 32,
   "metadata": {},
   "outputs": [
    {
     "name": "stdout",
     "output_type": "stream",
     "text": [
      "I made 59.939305487988506 % of customer payments before my priority mode adjustment\n",
      "I made 64.56784117497163 % of customer payments after my priority mode adjustment\n"
     ]
    }
   ],
   "source": [
    "total_earnings = 278.72\n",
    "new_percent_earnings = (total_earnings * 100) / TotalCustomerPay\n",
    "\n",
    "print(\"I made\", percent_earnings, \"% of customer payments before my priority mode adjustment\")\n",
    "print(\"I made\", new_percent_earnings, \"% of customer payments after my priority mode adjustment\")"
   ]
  },
  {
   "cell_type": "code",
   "execution_count": 36,
   "metadata": {},
   "outputs": [
    {
     "name": "stdout",
     "output_type": "stream",
     "text": [
      "Lyft paid me an additional 4.6285356869831205 %. This brings my earnings to a total of 64.47517779785484 % of customer payments.\n"
     ]
    }
   ],
   "source": [
    "diff = new_percent_earnings-percent_earnings \n",
    "\n",
    "print(\"Lyft paid me an additional\", diff,\"%. This brings my earnings to a total of\", new_percent_earnings,\"% of customer payments.\")"
   ]
  },
  {
   "cell_type": "code",
   "execution_count": 18,
   "metadata": {},
   "outputs": [
    {
     "data": {
      "text/plain": [
       "32"
      ]
     },
     "execution_count": 18,
     "metadata": {},
     "output_type": "execute_result"
    }
   ],
   "source": [
    "len(rides)"
   ]
  },
  {
   "cell_type": "code",
   "execution_count": null,
   "metadata": {},
   "outputs": [],
   "source": []
  }
 ],
 "metadata": {
  "kernelspec": {
   "display_name": "Python 3 (ipykernel)",
   "language": "python",
   "name": "python3"
  },
  "language_info": {
   "codemirror_mode": {
    "name": "ipython",
    "version": 3
   },
   "file_extension": ".py",
   "mimetype": "text/x-python",
   "name": "python",
   "nbconvert_exporter": "python",
   "pygments_lexer": "ipython3",
   "version": "3.13.7"
  }
 },
 "nbformat": 4,
 "nbformat_minor": 4
}
